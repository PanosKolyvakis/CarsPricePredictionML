{
 "cells": [
  {
   "cell_type": "code",
   "execution_count": 2,
   "metadata": {},
   "outputs": [
    {
     "data": {
      "text/html": [
       "<div>\n",
       "<style scoped>\n",
       "    .dataframe tbody tr th:only-of-type {\n",
       "        vertical-align: middle;\n",
       "    }\n",
       "\n",
       "    .dataframe tbody tr th {\n",
       "        vertical-align: top;\n",
       "    }\n",
       "\n",
       "    .dataframe thead th {\n",
       "        text-align: right;\n",
       "    }\n",
       "</style>\n",
       "<table border=\"1\" class=\"dataframe\">\n",
       "  <thead>\n",
       "    <tr style=\"text-align: right;\">\n",
       "      <th></th>\n",
       "      <th>model</th>\n",
       "      <th>year</th>\n",
       "      <th>price</th>\n",
       "      <th>transmission</th>\n",
       "      <th>mileage</th>\n",
       "      <th>fuelType</th>\n",
       "      <th>tax</th>\n",
       "      <th>mpg</th>\n",
       "      <th>engineSize</th>\n",
       "    </tr>\n",
       "  </thead>\n",
       "  <tbody>\n",
       "    <tr>\n",
       "      <th>0</th>\n",
       "      <td>GT86</td>\n",
       "      <td>2016</td>\n",
       "      <td>16000</td>\n",
       "      <td>Manual</td>\n",
       "      <td>24089</td>\n",
       "      <td>Petrol</td>\n",
       "      <td>265</td>\n",
       "      <td>36.2</td>\n",
       "      <td>2.0</td>\n",
       "    </tr>\n",
       "    <tr>\n",
       "      <th>1</th>\n",
       "      <td>GT86</td>\n",
       "      <td>2017</td>\n",
       "      <td>15995</td>\n",
       "      <td>Manual</td>\n",
       "      <td>18615</td>\n",
       "      <td>Petrol</td>\n",
       "      <td>145</td>\n",
       "      <td>36.2</td>\n",
       "      <td>2.0</td>\n",
       "    </tr>\n",
       "    <tr>\n",
       "      <th>2</th>\n",
       "      <td>GT86</td>\n",
       "      <td>2015</td>\n",
       "      <td>13998</td>\n",
       "      <td>Manual</td>\n",
       "      <td>27469</td>\n",
       "      <td>Petrol</td>\n",
       "      <td>265</td>\n",
       "      <td>36.2</td>\n",
       "      <td>2.0</td>\n",
       "    </tr>\n",
       "    <tr>\n",
       "      <th>3</th>\n",
       "      <td>GT86</td>\n",
       "      <td>2017</td>\n",
       "      <td>18998</td>\n",
       "      <td>Manual</td>\n",
       "      <td>14736</td>\n",
       "      <td>Petrol</td>\n",
       "      <td>150</td>\n",
       "      <td>36.2</td>\n",
       "      <td>2.0</td>\n",
       "    </tr>\n",
       "    <tr>\n",
       "      <th>4</th>\n",
       "      <td>GT86</td>\n",
       "      <td>2017</td>\n",
       "      <td>17498</td>\n",
       "      <td>Manual</td>\n",
       "      <td>36284</td>\n",
       "      <td>Petrol</td>\n",
       "      <td>145</td>\n",
       "      <td>36.2</td>\n",
       "      <td>2.0</td>\n",
       "    </tr>\n",
       "  </tbody>\n",
       "</table>\n",
       "</div>"
      ],
      "text/plain": [
       "   model  year  price transmission  mileage fuelType  tax   mpg  engineSize\n",
       "0   GT86  2016  16000       Manual    24089   Petrol  265  36.2         2.0\n",
       "1   GT86  2017  15995       Manual    18615   Petrol  145  36.2         2.0\n",
       "2   GT86  2015  13998       Manual    27469   Petrol  265  36.2         2.0\n",
       "3   GT86  2017  18998       Manual    14736   Petrol  150  36.2         2.0\n",
       "4   GT86  2017  17498       Manual    36284   Petrol  145  36.2         2.0"
      ]
     },
     "execution_count": 2,
     "metadata": {},
     "output_type": "execute_result"
    }
   ],
   "source": [
    "import pandas as pd\n",
    "\n",
    "data_cars = pd.read_csv('/Users/panoskolyvakis/PythonForData/another_exercise.csv')\n",
    "\n",
    "data_cars.head()"
   ]
  },
  {
   "cell_type": "code",
   "execution_count": 3,
   "metadata": {},
   "outputs": [
    {
     "data": {
      "text/plain": [
       "model           0\n",
       "year            0\n",
       "price           0\n",
       "transmission    0\n",
       "mileage         0\n",
       "fuelType        0\n",
       "tax             0\n",
       "mpg             0\n",
       "engineSize      0\n",
       "dtype: int64"
      ]
     },
     "execution_count": 3,
     "metadata": {},
     "output_type": "execute_result"
    }
   ],
   "source": [
    "data_cars.isnull().sum()"
   ]
  },
  {
   "cell_type": "code",
   "execution_count": 4,
   "metadata": {},
   "outputs": [
    {
     "name": "stdout",
     "output_type": "stream",
     "text": [
      "18 items in model. datatype is object\n",
      "23 items in year. datatype is int64\n",
      "2114 items in price. datatype is int64\n",
      "4 items in transmission. datatype is object\n",
      "5699 items in mileage. datatype is int64\n",
      "4 items in fuelType. datatype is object\n",
      "29 items in tax. datatype is int64\n",
      "81 items in mpg. datatype is float64\n",
      "16 items in engineSize. datatype is float64\n"
     ]
    }
   ],
   "source": [
    "cols = list(data_cars.columns)\n",
    "\n",
    "for c in cols:\n",
    "    sum = data_cars[c].nunique()\n",
    "    datatype = data_cars[c].dtype\n",
    "    print('{} items in {}. datatype is {}'.format(sum , c , datatype))"
   ]
  },
  {
   "cell_type": "code",
   "execution_count": 13,
   "metadata": {},
   "outputs": [
    {
     "name": "stdout",
     "output_type": "stream",
     "text": [
      "Index(['model_ Auris', 'model_ Avensis', 'model_ Aygo', 'model_ C-HR',\n",
      "       'model_ Camry', 'model_ Corolla', 'model_ GT86', 'model_ Hilux',\n",
      "       'model_ IQ', 'model_ Land Cruiser', 'model_ PROACE VERSO',\n",
      "       'model_ Prius', 'model_ RAV4', 'model_ Supra', 'model_ Urban Cruiser',\n",
      "       'model_ Verso', 'model_ Verso-S', 'model_ Yaris',\n",
      "       'transmission_Automatic', 'transmission_Manual', 'transmission_Other',\n",
      "       'transmission_Semi-Auto', 'fuelType_Diesel', 'fuelType_Hybrid',\n",
      "       'fuelType_Other', 'fuelType_Petrol', 'year', 'mileage', 'tax', 'mpg',\n",
      "       'engineSize'],\n",
      "      dtype='object')\n"
     ]
    }
   ],
   "source": [
    "import pandas as pd\n",
    "from sklearn.preprocessing import OneHotEncoder, StandardScaler\n",
    "\n",
    "\n",
    "# perform one-hot encoding on the categorical variables\n",
    "categorical_vars = ['model', 'transmission', 'fuelType']\n",
    "categorical_transformed = pd.get_dummies(data_cars[categorical_vars])\n",
    "\n",
    "# concatenate the encoded categorical variables with the numerical variables\n",
    "numerical_vars = ['year', 'mileage', 'tax', 'mpg', 'engineSize']\n",
    "scaled_data = pd.DataFrame(StandardScaler().fit_transform(data_cars[numerical_vars]))\n",
    "scaled_data.columns = numerical_vars\n",
    "x_processed = pd.concat([categorical_transformed, scaled_data], axis=1 )\n",
    "\n",
    "x_processed.head()\n",
    "\n",
    "print(x_processed.columns)"
   ]
  },
  {
   "cell_type": "code",
   "execution_count": 15,
   "metadata": {},
   "outputs": [
    {
     "data": {
      "text/html": [
       "<div>\n",
       "<style scoped>\n",
       "    .dataframe tbody tr th:only-of-type {\n",
       "        vertical-align: middle;\n",
       "    }\n",
       "\n",
       "    .dataframe tbody tr th {\n",
       "        vertical-align: top;\n",
       "    }\n",
       "\n",
       "    .dataframe thead th {\n",
       "        text-align: right;\n",
       "    }\n",
       "</style>\n",
       "<table border=\"1\" class=\"dataframe\">\n",
       "  <thead>\n",
       "    <tr style=\"text-align: right;\">\n",
       "      <th></th>\n",
       "      <th>model_ Auris</th>\n",
       "      <th>model_ Avensis</th>\n",
       "      <th>model_ Aygo</th>\n",
       "      <th>model_ C-HR</th>\n",
       "      <th>model_ Camry</th>\n",
       "      <th>model_ Corolla</th>\n",
       "      <th>model_ GT86</th>\n",
       "      <th>model_ Hilux</th>\n",
       "      <th>model_ IQ</th>\n",
       "      <th>model_ Land Cruiser</th>\n",
       "      <th>...</th>\n",
       "      <th>transmission_Semi-Auto</th>\n",
       "      <th>fuelType_Diesel</th>\n",
       "      <th>fuelType_Hybrid</th>\n",
       "      <th>fuelType_Other</th>\n",
       "      <th>fuelType_Petrol</th>\n",
       "      <th>year</th>\n",
       "      <th>mileage</th>\n",
       "      <th>tax</th>\n",
       "      <th>mpg</th>\n",
       "      <th>engineSize</th>\n",
       "    </tr>\n",
       "  </thead>\n",
       "  <tbody>\n",
       "    <tr>\n",
       "      <th>count</th>\n",
       "      <td>6738.000000</td>\n",
       "      <td>6738.000000</td>\n",
       "      <td>6738.000000</td>\n",
       "      <td>6738.000000</td>\n",
       "      <td>6738.000000</td>\n",
       "      <td>6738.000000</td>\n",
       "      <td>6738.000000</td>\n",
       "      <td>6738.000000</td>\n",
       "      <td>6738.000000</td>\n",
       "      <td>6738.000000</td>\n",
       "      <td>...</td>\n",
       "      <td>6738.000000</td>\n",
       "      <td>6738.000000</td>\n",
       "      <td>6738.000000</td>\n",
       "      <td>6738.000000</td>\n",
       "      <td>6738.000000</td>\n",
       "      <td>6.738000e+03</td>\n",
       "      <td>6.738000e+03</td>\n",
       "      <td>6.738000e+03</td>\n",
       "      <td>6.738000e+03</td>\n",
       "      <td>6.738000e+03</td>\n",
       "    </tr>\n",
       "    <tr>\n",
       "      <th>mean</th>\n",
       "      <td>0.105669</td>\n",
       "      <td>0.017067</td>\n",
       "      <td>0.291036</td>\n",
       "      <td>0.071089</td>\n",
       "      <td>0.001633</td>\n",
       "      <td>0.039626</td>\n",
       "      <td>0.010834</td>\n",
       "      <td>0.012763</td>\n",
       "      <td>0.001187</td>\n",
       "      <td>0.007569</td>\n",
       "      <td>...</td>\n",
       "      <td>0.037697</td>\n",
       "      <td>0.074651</td>\n",
       "      <td>0.303206</td>\n",
       "      <td>0.015583</td>\n",
       "      <td>0.606560</td>\n",
       "      <td>-1.750020e-14</td>\n",
       "      <td>7.955115e-17</td>\n",
       "      <td>-1.458861e-15</td>\n",
       "      <td>8.916716e-16</td>\n",
       "      <td>8.270404e-15</td>\n",
       "    </tr>\n",
       "    <tr>\n",
       "      <th>std</th>\n",
       "      <td>0.307437</td>\n",
       "      <td>0.129532</td>\n",
       "      <td>0.454274</td>\n",
       "      <td>0.256993</td>\n",
       "      <td>0.040375</td>\n",
       "      <td>0.195093</td>\n",
       "      <td>0.103529</td>\n",
       "      <td>0.112260</td>\n",
       "      <td>0.034439</td>\n",
       "      <td>0.086677</td>\n",
       "      <td>...</td>\n",
       "      <td>0.190476</td>\n",
       "      <td>0.262847</td>\n",
       "      <td>0.459677</td>\n",
       "      <td>0.123866</td>\n",
       "      <td>0.488549</td>\n",
       "      <td>1.000074e+00</td>\n",
       "      <td>1.000074e+00</td>\n",
       "      <td>1.000074e+00</td>\n",
       "      <td>1.000074e+00</td>\n",
       "      <td>1.000074e+00</td>\n",
       "    </tr>\n",
       "    <tr>\n",
       "      <th>min</th>\n",
       "      <td>0.000000</td>\n",
       "      <td>0.000000</td>\n",
       "      <td>0.000000</td>\n",
       "      <td>0.000000</td>\n",
       "      <td>0.000000</td>\n",
       "      <td>0.000000</td>\n",
       "      <td>0.000000</td>\n",
       "      <td>0.000000</td>\n",
       "      <td>0.000000</td>\n",
       "      <td>0.000000</td>\n",
       "      <td>...</td>\n",
       "      <td>0.000000</td>\n",
       "      <td>0.000000</td>\n",
       "      <td>0.000000</td>\n",
       "      <td>0.000000</td>\n",
       "      <td>0.000000</td>\n",
       "      <td>-8.506810e+00</td>\n",
       "      <td>-1.195114e+00</td>\n",
       "      <td>-1.281853e+00</td>\n",
       "      <td>-3.804243e+00</td>\n",
       "      <td>-3.373558e+00</td>\n",
       "    </tr>\n",
       "    <tr>\n",
       "      <th>25%</th>\n",
       "      <td>0.000000</td>\n",
       "      <td>0.000000</td>\n",
       "      <td>0.000000</td>\n",
       "      <td>0.000000</td>\n",
       "      <td>0.000000</td>\n",
       "      <td>0.000000</td>\n",
       "      <td>0.000000</td>\n",
       "      <td>0.000000</td>\n",
       "      <td>0.000000</td>\n",
       "      <td>0.000000</td>\n",
       "      <td>...</td>\n",
       "      <td>0.000000</td>\n",
       "      <td>0.000000</td>\n",
       "      <td>0.000000</td>\n",
       "      <td>0.000000</td>\n",
       "      <td>0.000000</td>\n",
       "      <td>-3.394643e-01</td>\n",
       "      <td>-7.012854e-01</td>\n",
       "      <td>-1.281853e+00</td>\n",
       "      <td>-4.825996e-01</td>\n",
       "      <td>-1.080644e+00</td>\n",
       "    </tr>\n",
       "    <tr>\n",
       "      <th>50%</th>\n",
       "      <td>0.000000</td>\n",
       "      <td>0.000000</td>\n",
       "      <td>0.000000</td>\n",
       "      <td>0.000000</td>\n",
       "      <td>0.000000</td>\n",
       "      <td>0.000000</td>\n",
       "      <td>0.000000</td>\n",
       "      <td>0.000000</td>\n",
       "      <td>0.000000</td>\n",
       "      <td>0.000000</td>\n",
       "      <td>...</td>\n",
       "      <td>0.000000</td>\n",
       "      <td>0.000000</td>\n",
       "      <td>0.000000</td>\n",
       "      <td>0.000000</td>\n",
       "      <td>1.000000</td>\n",
       "      <td>1.142771e-01</td>\n",
       "      <td>-2.271702e-01</td>\n",
       "      <td>5.455513e-01</td>\n",
       "      <td>-1.529618e-02</td>\n",
       "      <td>6.581323e-02</td>\n",
       "    </tr>\n",
       "    <tr>\n",
       "      <th>75%</th>\n",
       "      <td>0.000000</td>\n",
       "      <td>0.000000</td>\n",
       "      <td>1.000000</td>\n",
       "      <td>0.000000</td>\n",
       "      <td>0.000000</td>\n",
       "      <td>0.000000</td>\n",
       "      <td>0.000000</td>\n",
       "      <td>0.000000</td>\n",
       "      <td>0.000000</td>\n",
       "      <td>0.000000</td>\n",
       "      <td>...</td>\n",
       "      <td>0.000000</td>\n",
       "      <td>0.000000</td>\n",
       "      <td>1.000000</td>\n",
       "      <td>0.000000</td>\n",
       "      <td>1.000000</td>\n",
       "      <td>5.680185e-01</td>\n",
       "      <td>4.291109e-01</td>\n",
       "      <td>6.809145e-01</td>\n",
       "      <td>3.762283e-01</td>\n",
       "      <td>7.536874e-01</td>\n",
       "    </tr>\n",
       "    <tr>\n",
       "      <th>max</th>\n",
       "      <td>1.000000</td>\n",
       "      <td>1.000000</td>\n",
       "      <td>1.000000</td>\n",
       "      <td>1.000000</td>\n",
       "      <td>1.000000</td>\n",
       "      <td>1.000000</td>\n",
       "      <td>1.000000</td>\n",
       "      <td>1.000000</td>\n",
       "      <td>1.000000</td>\n",
       "      <td>1.000000</td>\n",
       "      <td>...</td>\n",
       "      <td>1.000000</td>\n",
       "      <td>1.000000</td>\n",
       "      <td>1.000000</td>\n",
       "      <td>1.000000</td>\n",
       "      <td>1.000000</td>\n",
       "      <td>1.475501e+00</td>\n",
       "      <td>7.925185e+00</td>\n",
       "      <td>6.366171e+00</td>\n",
       "      <td>1.085898e+01</td>\n",
       "      <td>6.944555e+00</td>\n",
       "    </tr>\n",
       "  </tbody>\n",
       "</table>\n",
       "<p>8 rows × 31 columns</p>\n",
       "</div>"
      ],
      "text/plain": [
       "       model_ Auris  model_ Avensis  model_ Aygo  model_ C-HR  model_ Camry  \\\n",
       "count   6738.000000     6738.000000  6738.000000  6738.000000   6738.000000   \n",
       "mean       0.105669        0.017067     0.291036     0.071089      0.001633   \n",
       "std        0.307437        0.129532     0.454274     0.256993      0.040375   \n",
       "min        0.000000        0.000000     0.000000     0.000000      0.000000   \n",
       "25%        0.000000        0.000000     0.000000     0.000000      0.000000   \n",
       "50%        0.000000        0.000000     0.000000     0.000000      0.000000   \n",
       "75%        0.000000        0.000000     1.000000     0.000000      0.000000   \n",
       "max        1.000000        1.000000     1.000000     1.000000      1.000000   \n",
       "\n",
       "       model_ Corolla  model_ GT86  model_ Hilux    model_ IQ  \\\n",
       "count     6738.000000  6738.000000   6738.000000  6738.000000   \n",
       "mean         0.039626     0.010834      0.012763     0.001187   \n",
       "std          0.195093     0.103529      0.112260     0.034439   \n",
       "min          0.000000     0.000000      0.000000     0.000000   \n",
       "25%          0.000000     0.000000      0.000000     0.000000   \n",
       "50%          0.000000     0.000000      0.000000     0.000000   \n",
       "75%          0.000000     0.000000      0.000000     0.000000   \n",
       "max          1.000000     1.000000      1.000000     1.000000   \n",
       "\n",
       "       model_ Land Cruiser  ...  transmission_Semi-Auto  fuelType_Diesel  \\\n",
       "count          6738.000000  ...             6738.000000      6738.000000   \n",
       "mean              0.007569  ...                0.037697         0.074651   \n",
       "std               0.086677  ...                0.190476         0.262847   \n",
       "min               0.000000  ...                0.000000         0.000000   \n",
       "25%               0.000000  ...                0.000000         0.000000   \n",
       "50%               0.000000  ...                0.000000         0.000000   \n",
       "75%               0.000000  ...                0.000000         0.000000   \n",
       "max               1.000000  ...                1.000000         1.000000   \n",
       "\n",
       "       fuelType_Hybrid  fuelType_Other  fuelType_Petrol          year  \\\n",
       "count      6738.000000     6738.000000      6738.000000  6.738000e+03   \n",
       "mean          0.303206        0.015583         0.606560 -1.750020e-14   \n",
       "std           0.459677        0.123866         0.488549  1.000074e+00   \n",
       "min           0.000000        0.000000         0.000000 -8.506810e+00   \n",
       "25%           0.000000        0.000000         0.000000 -3.394643e-01   \n",
       "50%           0.000000        0.000000         1.000000  1.142771e-01   \n",
       "75%           1.000000        0.000000         1.000000  5.680185e-01   \n",
       "max           1.000000        1.000000         1.000000  1.475501e+00   \n",
       "\n",
       "            mileage           tax           mpg    engineSize  \n",
       "count  6.738000e+03  6.738000e+03  6.738000e+03  6.738000e+03  \n",
       "mean   7.955115e-17 -1.458861e-15  8.916716e-16  8.270404e-15  \n",
       "std    1.000074e+00  1.000074e+00  1.000074e+00  1.000074e+00  \n",
       "min   -1.195114e+00 -1.281853e+00 -3.804243e+00 -3.373558e+00  \n",
       "25%   -7.012854e-01 -1.281853e+00 -4.825996e-01 -1.080644e+00  \n",
       "50%   -2.271702e-01  5.455513e-01 -1.529618e-02  6.581323e-02  \n",
       "75%    4.291109e-01  6.809145e-01  3.762283e-01  7.536874e-01  \n",
       "max    7.925185e+00  6.366171e+00  1.085898e+01  6.944555e+00  \n",
       "\n",
       "[8 rows x 31 columns]"
      ]
     },
     "execution_count": 15,
     "metadata": {},
     "output_type": "execute_result"
    }
   ],
   "source": [
    "x_processed.describe()\n"
   ]
  },
  {
   "cell_type": "code",
   "execution_count": 16,
   "metadata": {},
   "outputs": [
    {
     "name": "stdout",
     "output_type": "stream",
     "text": [
      "      model_ Auris  model_ Avensis  model_ Aygo  model_ C-HR  model_ Camry  \\\n",
      "349              0               0            0            0             0   \n",
      "2183             0               0            0            0             0   \n",
      "662              0               0            0            0             0   \n",
      "172              0               0            0            0             0   \n",
      "1372             0               0            0            0             0   \n",
      "\n",
      "      model_ Corolla  model_ GT86  model_ Hilux  model_ IQ  \\\n",
      "349                0            0             0          0   \n",
      "2183               0            0             0          0   \n",
      "662                0            0             0          0   \n",
      "172                1            0             0          0   \n",
      "1372               0            0             0          0   \n",
      "\n",
      "      model_ Land Cruiser  ...  transmission_Semi-Auto  fuelType_Diesel  \\\n",
      "349                     0  ...                       0                1   \n",
      "2183                    0  ...                       0                0   \n",
      "662                     0  ...                       0                0   \n",
      "172                     0  ...                       0                0   \n",
      "1372                    0  ...                       0                0   \n",
      "\n",
      "      fuelType_Hybrid  fuelType_Other  fuelType_Petrol      year   mileage  \\\n",
      "349                 0               0                0 -1.700689  1.174678   \n",
      "2183                0               0                1  1.021760 -0.565958   \n",
      "662                 0               0                1 -0.339464  0.198315   \n",
      "172                 0               0                1  1.021760 -0.672317   \n",
      "1372                0               0                1  1.021760 -0.909034   \n",
      "\n",
      "           tax       mpg  engineSize  \n",
      "349   2.237592 -1.316168    1.670853  \n",
      "2183  0.680915 -0.956218    0.065813  \n",
      "662   1.425412 -1.234074    1.212270  \n",
      "172   0.680915 -1.505615   -0.622061  \n",
      "1372  0.680915 -0.956218    0.065813  \n",
      "\n",
      "[5 rows x 31 columns]\n"
     ]
    }
   ],
   "source": [
    "y = data_cars[['price']]\n",
    "\n",
    "from sklearn.model_selection import train_test_split\n",
    "\n",
    "X_train , X_test , y_train , y_test = train_test_split(x_processed, y , test_size= 0.2  , random_state= 42)\n",
    "\n",
    "print(X_train.head())\n",
    "\n"
   ]
  },
  {
   "cell_type": "code",
   "execution_count": 39,
   "metadata": {},
   "outputs": [],
   "source": [
    "from sklearn.metrics import r2_score, mean_squared_error\n",
    "def print_metrics( a ,r1 , r2):\n",
    "    \"\"\"function returns r2 MSE and RMSE for data arrays supplied\"\"\"\n",
    "\n",
    "    print('{} MSE: {} , rMSE: {} and r2 : {}'.format( a ,round(mean_squared_error(r1 ,r2) ,3), round(mean_squared_error(r1 ,r2)**0.5 ,3),  round(r2_score(r1, r2) ,3 )))\n"
   ]
  },
  {
   "cell_type": "code",
   "execution_count": 40,
   "metadata": {},
   "outputs": [
    {
     "name": "stdout",
     "output_type": "stream",
     "text": [
      "linear Model MSE: 3125248.251 , rMSE: 1767.837 and r2 : 0.927\n"
     ]
    }
   ],
   "source": [
    "from sklearn.linear_model import LinearRegression\n",
    "from sklearn.metrics import r2_score\n",
    "from sklearn.metrics import mean_squared_error as MSE\n",
    "lr = LinearRegression()\n",
    "lr.fit(X_train , y_train)\n",
    "\n",
    "y_pred = lr.predict(X_test)\n",
    "\n",
    "print_metrics('linear Model' , y_test, y_pred)"
   ]
  },
  {
   "cell_type": "markdown",
   "metadata": {},
   "source": [
    "31 features are indeed a lot so perhaps trying rigde and lasso regression may be good ideas as regularization methods."
   ]
  },
  {
   "cell_type": "code",
   "execution_count": 53,
   "metadata": {},
   "outputs": [
    {
     "name": "stdout",
     "output_type": "stream",
     "text": [
      "Ridge Regression MSE: 3125517.572 , rMSE: 1767.913 and r2 : 0.927\n",
      "0.1\n"
     ]
    }
   ],
   "source": [
    "from sklearn.linear_model import Ridge , RidgeCV\n",
    "from sklearn.metrics import mean_squared_error as mean_squared_error\n",
    "import numpy as np\n",
    "\n",
    "ridge_cv = RidgeCV(alphas=np.logspace(-1,1,1))\n",
    "ridge_cv.fit(X_train , y_train)\n",
    "\n",
    "ridge_regression = Ridge(alpha = ridge_cv.alpha_)\n",
    "ridge_regression.fit(X_train, y_train)\n",
    "y_ridge = ridge_regression.predict(X_test)\n",
    "print_metrics('Ridge Regression' , y_test , y_ridge)\n",
    "print(ridge_cv.alpha_)"
   ]
  },
  {
   "cell_type": "markdown",
   "metadata": {},
   "source": [
    "simple model: Decision Tree Regression\n"
   ]
  },
  {
   "cell_type": "code",
   "execution_count": 54,
   "metadata": {},
   "outputs": [
    {
     "name": "stdout",
     "output_type": "stream",
     "text": [
      "Decision tree regressor MSE: 2193368.04 , rMSE: 1481.002 and r2 : 0.948\n"
     ]
    }
   ],
   "source": [
    "from sklearn.tree import DecisionTreeRegressor\n",
    "\n",
    "dt = DecisionTreeRegressor()\n",
    "dt.fit(X_train , y_train)\n",
    "y_pred_dt = dt.predict(X_test)\n",
    "\n",
    "print_metrics('Decision tree regressor' , y_test , y_pred_dt)"
   ]
  },
  {
   "cell_type": "code",
   "execution_count": null,
   "metadata": {},
   "outputs": [],
   "source": []
  },
  {
   "cell_type": "markdown",
   "metadata": {},
   "source": [
    "The decision Tree classifier seems to be working ok so lets try a gradient boosting regressor"
   ]
  },
  {
   "cell_type": "code",
   "execution_count": 56,
   "metadata": {},
   "outputs": [
    {
     "name": "stderr",
     "output_type": "stream",
     "text": [
      "/Users/panoskolyvakis/opt/miniconda3/envs/casestudyenv/lib/python3.10/site-packages/sklearn/ensemble/_gb.py:570: DataConversionWarning: A column-vector y was passed when a 1d array was expected. Please change the shape of y to (n_samples, ), for example using ravel().\n",
      "  y = column_or_1d(y, warn=True)\n"
     ]
    },
    {
     "name": "stdout",
     "output_type": "stream",
     "text": [
      "Gradient boosting regressor MSE: 1286118.219 , rMSE: 1134.072 and r2 : 0.97\n"
     ]
    }
   ],
   "source": [
    "from sklearn.ensemble import GradientBoostingRegressor\n",
    "import numpy as np\n",
    "modelGBR = GradientBoostingRegressor(learning_rate=0.1 , max_depth= 3 , n_estimators= 200 )\n",
    "modelGBR.fit(X_train , y_train)\n",
    "\n",
    "y_pred_GBR = modelGBR.predict(X_test)\n",
    "\n",
    "print_metrics('Gradient boosting regressor' , y_test, y_pred_GBR)"
   ]
  },
  {
   "cell_type": "markdown",
   "metadata": {},
   "source": [
    "optimising the hyperparameters of the gradient boosting regressor"
   ]
  },
  {
   "cell_type": "code",
   "execution_count": 58,
   "metadata": {},
   "outputs": [
    {
     "name": "stdout",
     "output_type": "stream",
     "text": [
      "Fitting 5 folds for each of 5832 candidates, totalling 29160 fits\n"
     ]
    }
   ],
   "source": [
    "from sklearn.model_selection import GridSearchCV\n",
    "from sklearn.ensemble import GradientBoostingRegressor\n",
    "from sklearn.metrics import mean_squared_error\n",
    "\n",
    "# Define hyperparameters to tune\n",
    "param_grid = {\n",
    "    'learning_rate': [0.05, 0.1, 0.15],\n",
    "    'n_estimators': [50, 100, 150],\n",
    "    'max_depth': [3, 5, 7],\n",
    "    'min_samples_split': [2, 4, 6],\n",
    "    'min_samples_leaf': [1, 2, 4],\n",
    "    'max_features': ['auto', 'sqrt', 'log2'],\n",
    "    'subsample': [0.8, 1.0],\n",
    "    'loss': ['ls', 'lad', 'huber', 'quantile']\n",
    "}\n",
    "\n",
    "# Split the data into training and validation sets\n",
    "X_train, X_val, y_train, y_val = train_test_split(x_processed, y, test_size=0.2, random_state=42)\n",
    "\n",
    "# Instantiate a gradient boosting regressor\n",
    "gb = GradientBoostingRegressor()\n",
    "\n",
    "# Perform grid search\n",
    "grid_search = GridSearchCV(gb, param_grid=param_grid, cv=5, n_jobs=-1, verbose=2)\n",
    "grid_search.fit(X_train, y_train)\n",
    "\n",
    "# Evaluate the best model on the test set\n",
    "best_model = grid_search.best_estimator_\n",
    "y_pred = best_model.predict(X_test)\n",
    "mse = mean_squared_error(y_test, y_pred)\n"
   ]
  },
  {
   "cell_type": "code",
   "execution_count": null,
   "metadata": {},
   "outputs": [],
   "source": []
  },
  {
   "cell_type": "code",
   "execution_count": null,
   "metadata": {},
   "outputs": [],
   "source": []
  },
  {
   "cell_type": "code",
   "execution_count": null,
   "metadata": {},
   "outputs": [],
   "source": []
  },
  {
   "cell_type": "code",
   "execution_count": null,
   "metadata": {},
   "outputs": [],
   "source": [
    "from sklearn.model_selection import KFold , GridSearchCV , cross_val_score\n",
    "\n",
    "kf= KFold(n_splits =5 , random_state=42)\n",
    "\n",
    "model"
   ]
  }
 ],
 "metadata": {
  "kernelspec": {
   "display_name": "Python 3.10.8 ('casestudyenv')",
   "language": "python",
   "name": "python3"
  },
  "language_info": {
   "codemirror_mode": {
    "name": "ipython",
    "version": 3
   },
   "file_extension": ".py",
   "mimetype": "text/x-python",
   "name": "python",
   "nbconvert_exporter": "python",
   "pygments_lexer": "ipython3",
   "version": "3.10.8"
  },
  "orig_nbformat": 4,
  "vscode": {
   "interpreter": {
    "hash": "e338846b0055d0ce2af10a8354efc03a27a2ef7071211c9b82d44cf37eada501"
   }
  }
 },
 "nbformat": 4,
 "nbformat_minor": 2
}
