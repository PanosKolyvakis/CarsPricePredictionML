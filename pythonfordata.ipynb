{
 "cells": [
  {
   "cell_type": "markdown",
   "metadata": {},
   "source": [
    "data camp exercise"
   ]
  },
  {
   "cell_type": "code",
   "execution_count": 2,
   "metadata": {},
   "outputs": [
    {
     "data": {
      "text/html": [
       "<div>\n",
       "<style scoped>\n",
       "    .dataframe tbody tr th:only-of-type {\n",
       "        vertical-align: middle;\n",
       "    }\n",
       "\n",
       "    .dataframe tbody tr th {\n",
       "        vertical-align: top;\n",
       "    }\n",
       "\n",
       "    .dataframe thead th {\n",
       "        text-align: right;\n",
       "    }\n",
       "</style>\n",
       "<table border=\"1\" class=\"dataframe\">\n",
       "  <thead>\n",
       "    <tr style=\"text-align: right;\">\n",
       "      <th></th>\n",
       "      <th>model</th>\n",
       "      <th>year</th>\n",
       "      <th>price</th>\n",
       "      <th>transmission</th>\n",
       "      <th>mileage</th>\n",
       "      <th>fuelType</th>\n",
       "      <th>tax</th>\n",
       "      <th>mpg</th>\n",
       "      <th>engineSize</th>\n",
       "    </tr>\n",
       "  </thead>\n",
       "  <tbody>\n",
       "    <tr>\n",
       "      <th>0</th>\n",
       "      <td>GT86</td>\n",
       "      <td>2016</td>\n",
       "      <td>16000</td>\n",
       "      <td>Manual</td>\n",
       "      <td>24089</td>\n",
       "      <td>Petrol</td>\n",
       "      <td>265</td>\n",
       "      <td>36.2</td>\n",
       "      <td>2.0</td>\n",
       "    </tr>\n",
       "    <tr>\n",
       "      <th>1</th>\n",
       "      <td>GT86</td>\n",
       "      <td>2017</td>\n",
       "      <td>15995</td>\n",
       "      <td>Manual</td>\n",
       "      <td>18615</td>\n",
       "      <td>Petrol</td>\n",
       "      <td>145</td>\n",
       "      <td>36.2</td>\n",
       "      <td>2.0</td>\n",
       "    </tr>\n",
       "    <tr>\n",
       "      <th>2</th>\n",
       "      <td>GT86</td>\n",
       "      <td>2015</td>\n",
       "      <td>13998</td>\n",
       "      <td>Manual</td>\n",
       "      <td>27469</td>\n",
       "      <td>Petrol</td>\n",
       "      <td>265</td>\n",
       "      <td>36.2</td>\n",
       "      <td>2.0</td>\n",
       "    </tr>\n",
       "    <tr>\n",
       "      <th>3</th>\n",
       "      <td>GT86</td>\n",
       "      <td>2017</td>\n",
       "      <td>18998</td>\n",
       "      <td>Manual</td>\n",
       "      <td>14736</td>\n",
       "      <td>Petrol</td>\n",
       "      <td>150</td>\n",
       "      <td>36.2</td>\n",
       "      <td>2.0</td>\n",
       "    </tr>\n",
       "    <tr>\n",
       "      <th>4</th>\n",
       "      <td>GT86</td>\n",
       "      <td>2017</td>\n",
       "      <td>17498</td>\n",
       "      <td>Manual</td>\n",
       "      <td>36284</td>\n",
       "      <td>Petrol</td>\n",
       "      <td>145</td>\n",
       "      <td>36.2</td>\n",
       "      <td>2.0</td>\n",
       "    </tr>\n",
       "  </tbody>\n",
       "</table>\n",
       "</div>"
      ],
      "text/plain": [
       "   model  year  price transmission  mileage fuelType  tax   mpg  engineSize\n",
       "0   GT86  2016  16000       Manual    24089   Petrol  265  36.2         2.0\n",
       "1   GT86  2017  15995       Manual    18615   Petrol  145  36.2         2.0\n",
       "2   GT86  2015  13998       Manual    27469   Petrol  265  36.2         2.0\n",
       "3   GT86  2017  18998       Manual    14736   Petrol  150  36.2         2.0\n",
       "4   GT86  2017  17498       Manual    36284   Petrol  145  36.2         2.0"
      ]
     },
     "execution_count": 2,
     "metadata": {},
     "output_type": "execute_result"
    }
   ],
   "source": [
    "import pandas as pd\n",
    "\n",
    "data = pd.read_csv('/Users/panoskolyvakis/PythonForData/data.csv')\n",
    "data.head()"
   ]
  },
  {
   "cell_type": "code",
   "execution_count": 3,
   "metadata": {},
   "outputs": [
    {
     "data": {
      "text/plain": [
       "model           0\n",
       "year            0\n",
       "price           0\n",
       "transmission    0\n",
       "mileage         0\n",
       "fuelType        0\n",
       "tax             0\n",
       "mpg             0\n",
       "engineSize      0\n",
       "dtype: int64"
      ]
     },
     "execution_count": 3,
     "metadata": {},
     "output_type": "execute_result"
    }
   ],
   "source": [
    "# inspect whether there are missing values\n",
    "data.isnull().sum()"
   ]
  },
  {
   "cell_type": "code",
   "execution_count": 84,
   "metadata": {},
   "outputs": [
    {
     "name": "stdout",
     "output_type": "stream",
     "text": [
      "model : [' GT86' ' Corolla' ' RAV4' ' Yaris' ' Auris' ' Aygo' ' C-HR' ' Prius'\n",
      " ' Avensis' ' Verso' ' Hilux' ' PROACE VERSO' ' Land Cruiser' ' Supra'\n",
      " ' Camry' ' Verso-S' ' IQ' ' Urban Cruiser'] \n",
      "year : [2016 2017 2015 2020 2013 2019 2018 2014 2012 2005 2003 2004 2001 2008\n",
      " 2007 2010 2011 2006 2009 2002 1999 2000 1998] \n",
      "price : [16000 15995 13998 ...  4950  4849  4985] \n",
      "transmission : ['Manual' 'Automatic' 'Semi-Auto' 'Other'] \n",
      "mileage : [24089 18615 27469 ... 36154 60700 45128] \n",
      "fuelType : ['Petrol' 'Other' 'Hybrid' 'Diesel'] \n",
      "tax : [265 145 150 260 200 250 140 135 235 300 125  20 160 165 205 240 330 325\n",
      "   0  30 120 155 115 190  10 305 565 555 540] \n",
      "mpg : [ 36.2  33.2  32.8  39.8  85.6  36.7  72.4  39.2  78.5  58.9  53.3  62.8\n",
      "  56.5  57.7  37.2  34.5  35.3  40.4  51.1  57.6  60.1  55.4  42.2  43.5\n",
      "  53.   49.6  52.3  48.7  42.8  47.1  38.2  31.4  32.1  30.4  47.9  78.\n",
      "  76.3  58.   65.7  55.   86.   66.   80.7  51.4  67.3  74.3  42.9  54.3\n",
      "  50.4  37.7  44.8  76.4  70.6  61.4  46.3  65.6  83.1  68.8  51.3  40.9\n",
      "  68.9  69.   67.   41.5   6.   94.1  64.2 235.  217.3 134.5  44.1  45.6\n",
      "  30.7  38.7   2.8  30.1  34.9  31.   27.2  23.9  29.7] \n",
      "engineSize : [2.  1.8 1.2 1.6 1.4 2.5 2.2 1.5 1.  1.3 0.  2.4 3.  2.8 4.2 4.5] \n",
      "transmission_num : [1 0 3 2] \n",
      "fueltype_num : [3 2 1 0] \n",
      "model_num : [ 6  5 12 17  0  2  3 11  1 15  7 10  9 13  4 16  8 14] \n"
     ]
    }
   ],
   "source": [
    "cols = list(data.columns)\n",
    "for c in cols:\n",
    "    \n",
    "    print('{} : {} '.format(c, data[c].unique()))"
   ]
  },
  {
   "cell_type": "code",
   "execution_count": 86,
   "metadata": {},
   "outputs": [
    {
     "data": {
      "text/html": [
       "<div>\n",
       "<style scoped>\n",
       "    .dataframe tbody tr th:only-of-type {\n",
       "        vertical-align: middle;\n",
       "    }\n",
       "\n",
       "    .dataframe tbody tr th {\n",
       "        vertical-align: top;\n",
       "    }\n",
       "\n",
       "    .dataframe thead th {\n",
       "        text-align: right;\n",
       "    }\n",
       "</style>\n",
       "<table border=\"1\" class=\"dataframe\">\n",
       "  <thead>\n",
       "    <tr style=\"text-align: right;\">\n",
       "      <th></th>\n",
       "      <th>model</th>\n",
       "      <th>year</th>\n",
       "      <th>price</th>\n",
       "      <th>transmission</th>\n",
       "      <th>mileage</th>\n",
       "      <th>fuelType</th>\n",
       "      <th>tax</th>\n",
       "      <th>mpg</th>\n",
       "      <th>engineSize</th>\n",
       "      <th>transmission_num</th>\n",
       "      <th>fueltype_num</th>\n",
       "      <th>model_num</th>\n",
       "    </tr>\n",
       "  </thead>\n",
       "  <tbody>\n",
       "    <tr>\n",
       "      <th>0</th>\n",
       "      <td>GT86</td>\n",
       "      <td>2016</td>\n",
       "      <td>16000</td>\n",
       "      <td>Manual</td>\n",
       "      <td>24089</td>\n",
       "      <td>Petrol</td>\n",
       "      <td>265</td>\n",
       "      <td>36.2</td>\n",
       "      <td>2.0</td>\n",
       "      <td>1</td>\n",
       "      <td>3</td>\n",
       "      <td>6</td>\n",
       "    </tr>\n",
       "    <tr>\n",
       "      <th>1</th>\n",
       "      <td>GT86</td>\n",
       "      <td>2017</td>\n",
       "      <td>15995</td>\n",
       "      <td>Manual</td>\n",
       "      <td>18615</td>\n",
       "      <td>Petrol</td>\n",
       "      <td>145</td>\n",
       "      <td>36.2</td>\n",
       "      <td>2.0</td>\n",
       "      <td>1</td>\n",
       "      <td>3</td>\n",
       "      <td>6</td>\n",
       "    </tr>\n",
       "    <tr>\n",
       "      <th>2</th>\n",
       "      <td>GT86</td>\n",
       "      <td>2015</td>\n",
       "      <td>13998</td>\n",
       "      <td>Manual</td>\n",
       "      <td>27469</td>\n",
       "      <td>Petrol</td>\n",
       "      <td>265</td>\n",
       "      <td>36.2</td>\n",
       "      <td>2.0</td>\n",
       "      <td>1</td>\n",
       "      <td>3</td>\n",
       "      <td>6</td>\n",
       "    </tr>\n",
       "    <tr>\n",
       "      <th>3</th>\n",
       "      <td>GT86</td>\n",
       "      <td>2017</td>\n",
       "      <td>18998</td>\n",
       "      <td>Manual</td>\n",
       "      <td>14736</td>\n",
       "      <td>Petrol</td>\n",
       "      <td>150</td>\n",
       "      <td>36.2</td>\n",
       "      <td>2.0</td>\n",
       "      <td>1</td>\n",
       "      <td>3</td>\n",
       "      <td>6</td>\n",
       "    </tr>\n",
       "    <tr>\n",
       "      <th>4</th>\n",
       "      <td>GT86</td>\n",
       "      <td>2017</td>\n",
       "      <td>17498</td>\n",
       "      <td>Manual</td>\n",
       "      <td>36284</td>\n",
       "      <td>Petrol</td>\n",
       "      <td>145</td>\n",
       "      <td>36.2</td>\n",
       "      <td>2.0</td>\n",
       "      <td>1</td>\n",
       "      <td>3</td>\n",
       "      <td>6</td>\n",
       "    </tr>\n",
       "  </tbody>\n",
       "</table>\n",
       "</div>"
      ],
      "text/plain": [
       "   model  year  price transmission  mileage fuelType  tax   mpg  engineSize  \\\n",
       "0   GT86  2016  16000       Manual    24089   Petrol  265  36.2         2.0   \n",
       "1   GT86  2017  15995       Manual    18615   Petrol  145  36.2         2.0   \n",
       "2   GT86  2015  13998       Manual    27469   Petrol  265  36.2         2.0   \n",
       "3   GT86  2017  18998       Manual    14736   Petrol  150  36.2         2.0   \n",
       "4   GT86  2017  17498       Manual    36284   Petrol  145  36.2         2.0   \n",
       "\n",
       "   transmission_num  fueltype_num  model_num  \n",
       "0                 1             3          6  \n",
       "1                 1             3          6  \n",
       "2                 1             3          6  \n",
       "3                 1             3          6  \n",
       "4                 1             3          6  "
      ]
     },
     "execution_count": 86,
     "metadata": {},
     "output_type": "execute_result"
    }
   ],
   "source": [
    "from sklearn.preprocessing import LabelEncoder\n",
    "\n",
    "LE = LabelEncoder()\n",
    "data['transmission_num']  = LE.fit_transform(data['transmission'])\n",
    "data['fueltype_num']  = LE.fit_transform(data['fuelType'])\n",
    "data['model_num']  = LE.fit_transform(data['model'])\n",
    "data.head()"
   ]
  },
  {
   "cell_type": "code",
   "execution_count": 7,
   "metadata": {},
   "outputs": [],
   "source": [
    "data_num = data.drop(columns= ['transmission' ,'fuelType', 'model'], axis =1 )\n"
   ]
  },
  {
   "cell_type": "code",
   "execution_count": 8,
   "metadata": {},
   "outputs": [],
   "source": [
    "corr = data_num.corr()"
   ]
  },
  {
   "cell_type": "code",
   "execution_count": 9,
   "metadata": {},
   "outputs": [
    {
     "data": {
      "image/png": "[encoded data removed]",
      "text/plain": [
       "<Figure size 640x480 with 2 Axes>"
      ]
     },
     "metadata": {},
     "output_type": "display_data"
    }
   ],
   "source": [
    "import matplotlib.pyplot as plt\n",
    "import seaborn as sns\n",
    "sns.heatmap(corr , annot = True , cmap = 'coolwarm')\n",
    "plt.show()"
   ]
  },
  {
   "cell_type": "code",
   "execution_count": 10,
   "metadata": {},
   "outputs": [
    {
     "name": "stdout",
     "output_type": "stream",
     "text": [
      "                            OLS Regression Results                            \n",
      "==============================================================================\n",
      "Dep. Variable:                  price   R-squared:                       0.761\n",
      "Model:                            OLS   Adj. R-squared:                  0.761\n",
      "Method:                 Least Squares   F-statistic:                     2397.\n",
      "Date:                Wed, 08 Mar 2023   Prob (F-statistic):               0.00\n",
      "Time:                        20:40:20   Log-Likelihood:                -42683.\n",
      "No. Observations:                4514   AIC:                         8.538e+04\n",
      "Df Residuals:                    4507   BIC:                         8.542e+04\n",
      "Df Model:                           6                                         \n",
      "Covariance Type:            nonrobust                                         \n",
      "====================================================================================\n",
      "                       coef    std err          t      P>|t|      [0.025      0.975]\n",
      "------------------------------------------------------------------------------------\n",
      "const            -1.765e+06   6.43e+04    -27.433      0.000   -1.89e+06   -1.64e+06\n",
      "year               875.2211     31.861     27.470      0.000     812.758     937.684\n",
      "mileage             -0.0783      0.004    -21.170      0.000      -0.086      -0.071\n",
      "tax                 -2.0513      0.705     -2.910      0.004      -3.433      -0.669\n",
      "engineSize        1.039e+04    162.050     64.121      0.000    1.01e+04    1.07e+04\n",
      "transmission_num  -247.6890     82.578     -2.999      0.003    -409.583     -85.796\n",
      "fueltype_num      -494.5193     67.712     -7.303      0.000    -627.268    -361.771\n",
      "==============================================================================\n",
      "Omnibus:                     1912.739   Durbin-Watson:                   1.993\n",
      "Prob(Omnibus):                  0.000   Jarque-Bera (JB):            15545.860\n",
      "Skew:                           1.820   Prob(JB):                         0.00\n",
      "Kurtosis:                      11.331   Cond. No.                     4.17e+07\n",
      "==============================================================================\n",
      "\n",
      "Notes:\n",
      "[1] Standard Errors assume that the covariance matrix of the errors is correctly specified.\n",
      "[2] The condition number is large, 4.17e+07. This might indicate that there are\n",
      "strong multicollinearity or other numerical problems.\n"
     ]
    }
   ],
   "source": [
    "\n",
    "X = data_num[['year' , 'mileage' , 'tax' , 'engineSize' , 'transmission_num' , 'fueltype_num']]\n",
    "Y = data_num['price']\n",
    "\n",
    "# deal with data splitting\n",
    "from sklearn.model_selection import train_test_split\n",
    "x_train , x_test , y_train , y_test = train_test_split(X , Y , test_size=0.33 , random_state= 40)\n",
    "\n",
    "\n",
    "# fit a simple linear regression\n",
    "import statsmodels.api as sm\n",
    "\n",
    "x_train = sm.add_constant(x_train)\n",
    "\n",
    "#fit the model\n",
    "model = sm.OLS(y_train,x_train).fit()\n",
    "print(model.summary())"
   ]
  },
  {
   "cell_type": "code",
   "execution_count": 76,
   "metadata": {},
   "outputs": [],
   "source": [
    "def percentage_diff(r1 , r2):\n",
    "    diffs = []\n",
    "    for i in range(len(r1)):\n",
    "\n",
    "        result = abs(r1-r2)/ r1\n",
    "        diffs.append(result)\n",
    "\n",
    "    return result.mean()*100"
   ]
  },
  {
   "cell_type": "code",
   "execution_count": 77,
   "metadata": {},
   "outputs": [
    {
     "name": "stdout",
     "output_type": "stream",
     "text": [
      "5632     9206.025896\n",
      "3697     6821.594912\n",
      "2421    13200.586597\n",
      "4266     7786.489007\n",
      "5012     6190.778906\n",
      "dtype: float64\n",
      "9261298.48493259 3043.238157774148 0.7719240613319707\n",
      "the percentage diff is 20.543573661510532\n"
     ]
    }
   ],
   "source": [
    "x_test = sm.add_constant(x_test)\n",
    "y_pred = model.predict(x_test)\n",
    "\n",
    "from sklearn.metrics import accuracy_score\n",
    "print(y_pred.head())\n",
    "\n",
    "\n",
    "from sklearn.metrics import mean_squared_error\n",
    "from sklearn.metrics import r2_score\n",
    "\n",
    "mse_linearReg = mean_squared_error(y_test, y_pred)\n",
    "r2_linear = r2_score(y_test , y_pred)\n",
    "rmse_linearReg = mse_linearReg**0.5\n",
    "\n",
    "print(mse_linearReg , rmse_linearReg , r2_linear)\n",
    "\n",
    "print('the percentage diff is {}'.format(percentage_diff(y_test, y_pred)))\n"
   ]
  },
  {
   "cell_type": "code",
   "execution_count": 78,
   "metadata": {},
   "outputs": [
    {
     "name": "stdout",
     "output_type": "stream",
     "text": [
      "3219169.3636979274 1794.2043818076934\n",
      "0.920722231817571\n",
      "5632    13998\n",
      "3697     6998\n",
      "2421     9995\n",
      "4266     9495\n",
      "5012     6701\n",
      "        ...  \n",
      "2786     8991\n",
      "1006     7495\n",
      "4886     7995\n",
      "71      19500\n",
      "84      22990\n",
      "Name: price, Length: 2224, dtype: int64\n",
      "the percentage diff is 9.853992218387575\n"
     ]
    }
   ],
   "source": [
    "# random forest regression\n",
    "\n",
    "from sklearn.ensemble import RandomForestRegressor\n",
    "from sklearn.metrics import mean_squared_error\n",
    "from sklearn.metrics import accuracy_score\n",
    "from sklearn.metrics import r2_score\n",
    "RandomForestModel = RandomForestRegressor(n_estimators =100, random_state= 42)\n",
    "\n",
    "RandomForestModel.fit(x_train, y_train)\n",
    "\n",
    "y_pred_forest = RandomForestModel.predict(x_test)\n",
    "\n",
    "mse = mean_squared_error(y_test, y_pred_forest)\n",
    "rmse = mse **0.5\n",
    "\n",
    "r2 = r2_score(y_test , y_pred_forest)\n",
    "print(mse , rmse)\n",
    "print(r2)\n",
    "import numpy as np\n",
    "\n",
    "print(y_test)\n",
    "\n",
    "print('the percentage diff is {}'.format(percentage_diff(y_test, y_pred_forest)))\n",
    "\n"
   ]
  },
  {
   "cell_type": "code",
   "execution_count": 79,
   "metadata": {},
   "outputs": [
    {
     "name": "stdout",
     "output_type": "stream",
     "text": [
      "43021212.8733519 6559.055791297395 -31098.361675751185\n",
      "the percentage diff is 39.99263495109497\n"
     ]
    }
   ],
   "source": [
    "# support vector machines \n",
    "\n",
    "from sklearn.svm import SVR\n",
    "\n",
    "modelSVR = SVR(kernel = 'rbf' , C = 110 , gamma = 1 , epsilon = 1)\n",
    "\n",
    "modelSVR.fit(x_train, y_train)\n",
    "\n",
    "y_predSVR = modelSVR.predict(x_test)\n",
    "\n",
    "mseSVR = mean_squared_error( y_predSVR, y_test)\n",
    "rmseSVR = mseSVR **0.5\n",
    "r2_SVR = r2_score(y_predSVR, y_test)\n",
    "\n",
    "print(mseSVR, rmseSVR, r2_SVR)\n",
    "print('the percentage diff is {}'.format(percentage_diff(y_test, y_predSVR)))"
   ]
  },
  {
   "cell_type": "code",
   "execution_count": 80,
   "metadata": {},
   "outputs": [
    {
     "name": "stderr",
     "output_type": "stream",
     "text": [
      "/Users/panoskolyvakis/opt/miniconda3/envs/casestudyenv/lib/python3.10/site-packages/sklearn/ensemble/_gb.py:294: FutureWarning: The loss 'ls' was deprecated in v1.0 and will be removed in version 1.2. Use 'squared_error' which is equivalent.\n",
      "  warnings.warn(\n"
     ]
    },
    {
     "name": "stdout",
     "output_type": "stream",
     "text": [
      "2488149.26316191 1577.3868463892775 0.9347330141559369\n",
      "the percentage diff is 8.874592260676138\n"
     ]
    }
   ],
   "source": [
    "# gradient boosting regression\n",
    "\n",
    "from sklearn.ensemble import GradientBoostingRegressor\n",
    "\n",
    "modelGBR = GradientBoostingRegressor(n_estimators=100 , max_depth=4 , learning_rate = 0.2 , loss = 'ls')\n",
    "\n",
    "modelGBR.fit(x_train , y_train)\n",
    "y_predGBR = modelGBR.predict(x_test)\n",
    "\n",
    "mseGBR = mean_squared_error(y_predGBR , y_test)\n",
    "rmse_GBR = mseGBR **0.5\n",
    "r2_GBR = r2_score(y_predGBR , y_test)\n",
    "print(mseGBR , rmse_GBR, r2_GBR)\n",
    "print('the percentage diff is {}'.format(percentage_diff(y_test, y_predGBR)))\n",
    "\n"
   ]
  },
  {
   "cell_type": "code",
   "execution_count": 81,
   "metadata": {},
   "outputs": [
    {
     "name": "stdout",
     "output_type": "stream",
     "text": [
      "5632     9206.025896\n",
      "3697     6821.594912\n",
      "2421    13200.586597\n",
      "4266     7786.489007\n",
      "5012     6190.778906\n",
      "            ...     \n",
      "2786    10257.147682\n",
      "1006    10045.017360\n",
      "4886     8520.910698\n",
      "71      18919.557798\n",
      "84      19670.900317\n",
      "Length: 2224, dtype: float64\n",
      "9261298.48493259 3043.238157774148 0.7058522280097268\n",
      "the percentage diff is 20.543573661510532\n"
     ]
    }
   ],
   "source": [
    "import tensorflow \n",
    "import keras\n",
    "\n",
    "model_neural = keras.models.Sequential()\n",
    "model_neural.add(keras.layers.Dense(10, input_dim = x_train.shape[1], activation = 'relu'))\n",
    "model_neural.add(keras.layers.Dense(5, activation = 'relu'))\n",
    "\n",
    "model_neural.add(keras.layers.Dense(1, activation = 'linear'))\n",
    "\n",
    "model_neural.compile(loss = 'mean_squared_error' , optimizer= 'adam')\n",
    "model_neural.fit(x_train , y_train, epochs = 100, batch_size = 32, verbose = 0)\n",
    "\n",
    "y_pred_neural = model.predict(x_test)\n",
    "print(y_pred_neural)\n",
    "\n",
    "mse_neural= mean_squared_error(y_pred_neural , y_test)\n",
    "rmse_neural = mse_neural **0.5\n",
    "r2_neural = r2_score(y_pred_neural , y_test)\n",
    "print(mse_neural , rmse_neural,r2_neural)\n",
    "\n",
    "print('the percentage diff is {}'.format(percentage_diff(y_test, y_pred_neural)))"
   ]
  },
  {
   "cell_type": "code",
   "execution_count": 82,
   "metadata": {},
   "outputs": [
    {
     "name": "stdout",
     "output_type": "stream",
     "text": [
      "5988060.316546762 3043.238157774148 0.8524988776844195\n",
      "the percentage diff is 12.25684314434551\n"
     ]
    }
   ],
   "source": [
    "from sklearn.tree import DecisionTreeClassifier\n",
    "\n",
    "model_tree_classifier = DecisionTreeClassifier()\n",
    "model_tree_classifier.fit(x_train ,  y_train)\n",
    "y_pred_model_tree_classifier = model_tree_classifier.predict(x_test)\n",
    "\n",
    "from sklearn.metrics import mean_absolute_error\n",
    "\n",
    "\n",
    "mse_tree_classifier= mean_squared_error(y_pred_model_tree_classifier , y_test)\n",
    "rmse_tree_classifier = mse_neural **0.5\n",
    "r2_tree_classifier = r2_score(y_pred_model_tree_classifier , y_test)\n",
    "print(mse_tree_classifier, rmse_tree_classifier , r2_tree_classifier)\n",
    "\n",
    "print('the percentage diff is {}'.format(percentage_diff(y_test, y_pred_model_tree_classifier)))\n",
    "\n"
   ]
  },
  {
   "cell_type": "code",
   "execution_count": 115,
   "metadata": {},
   "outputs": [
    {
     "name": "stdout",
     "output_type": "stream",
     "text": [
      "[-1616779.67032703 -1764451.50160149 -2020014.85979093 -1454291.75548791\n",
      " -1651088.45118371] -1701325.2476782151 187747.29262407456\n"
     ]
    }
   ],
   "source": [
    "# cross_validation for gradiaent boost regressor\n",
    "y = data_num['price']\n",
    "x = data_num.drop('price', axis = 1)\n",
    "\n",
    "\n",
    "from sklearn.model_selection import KFold, cross_val_score , GridSearchCV\n",
    "\n",
    "kf = KFold(n_splits = 5 , shuffle = True, random_state=42)\n",
    "\n",
    "modelGBR = GradientBoostingRegressor()\n",
    "\n",
    "param_grid = {\n",
    "    'n_estimators': [50, 100, 200], \n",
    "    'max_depth': [3, 4, 5],\n",
    "    'learning_rate': [0.01, 0.1, 1.0]\n",
    "}\n",
    "cv_modelGBR = GridSearchCV(modelGBR ,param_grid=param_grid, cv= 5, scoring = 'neg_mean_squared_error')\n",
    "cv_modelGBR.fit(x,y)\n",
    "\n",
    "cv_scores = cross_val_score(modelGBR , x , y , cv = kf , scoring = 'neg_mean_squared_error')\n",
    "\n",
    "print(cv_scores , cv_scores.mean() , cv_scores.std())\n"
   ]
  },
  {
   "cell_type": "code",
   "execution_count": 113,
   "metadata": {},
   "outputs": [
    {
     "name": "stdout",
     "output_type": "stream",
     "text": [
      "best_hyperparameters: {'learning_rate': 0.1, 'max_depth': 3, 'n_estimators': 200}\n",
      "Negative mean squared error -6304450.483508883\n"
     ]
    }
   ],
   "source": [
    "print('best_hyperparameters:', cv_modelGBR.best_params_)\n",
    "print('Negative mean squared error', cv_modelGBR.best_score_)"
   ]
  },
  {
   "cell_type": "code",
   "execution_count": 119,
   "metadata": {},
   "outputs": [
    {
     "name": "stderr",
     "output_type": "stream",
     "text": [
      "/Users/panoskolyvakis/opt/miniconda3/envs/casestudyenv/lib/python3.10/site-packages/sklearn/ensemble/_gb.py:294: FutureWarning: The loss 'ls' was deprecated in v1.0 and will be removed in version 1.2. Use 'squared_error' which is equivalent.\n",
      "  warnings.warn(\n"
     ]
    },
    {
     "name": "stdout",
     "output_type": "stream",
     "text": [
      "194.57050926947753 13.948853331707145 0.9999948615627883\n",
      "the percentage diff is 0.008602025729306358\n",
      "0.8635317049846333\n"
     ]
    }
   ],
   "source": [
    "\n",
    "from sklearn.ensemble import GradientBoostingRegressor\n",
    "import numpy as np\n",
    "modelGBR = GradientBoostingRegressor(learning_rate= 0.1, max_depth= 3, n_estimators = 200, loss = 'ls')\n",
    "\n",
    "modelGBR.fit(x_train , y_train)\n",
    "y_predGBR = modelGBR.predict(x_test)\n",
    "\n",
    "mseGBR = mean_squared_error(y_predGBR , y_test)\n",
    "rmse_GBR = mseGBR **0.5\n",
    "mae = np.mean(np.abs(y_predGBR - y_test))\n",
    "r2_GBR = r2_score(y_predGBR , y_test)\n",
    "print(mseGBR , rmse_GBR, r2_GBR)\n",
    "print('the percentage diff is {}'.format(percentage_diff(y_test, y_predGBR)))\n",
    "print(mae)"
   ]
  },
  {
   "cell_type": "code",
   "execution_count": 127,
   "metadata": {},
   "outputs": [
    {
     "data": {
      "image/png": "[encoded data removed]",
      "text/plain": [
       "<Figure size 640x480 with 1 Axes>"
      ]
     },
     "metadata": {},
     "output_type": "display_data"
    },
    {
     "data": {
      "text/plain": [
       "271.8281828459045"
      ]
     },
     "execution_count": 127,
     "metadata": {},
     "output_type": "execute_result"
    }
   ],
   "source": [
    "x_values= np.linspace(0,20)\n",
    "\n",
    "initial_1 = 100\n",
    "initial_5 = 500\n",
    "percentage_return = 0.05\n",
    "import math\n",
    "def plot_graph (initial , x_values, percentage_return):\n",
    "    y_values = []\n",
    "    for time in x_values:\n",
    "        result =  initial *math.exp(time * percentage_return)\n",
    "        y_values.append(result)\n",
    "    plt.plot(x_values , y_values)\n",
    "    plt.show()\n",
    "    return y_values[-1]\n",
    "\n",
    "plot_graph(initial=initial_1 , x_values= x_values , percentage_return=percentage_return)\n",
    "\n",
    "\n"
   ]
  },
  {
   "cell_type": "code",
   "execution_count": 129,
   "metadata": {},
   "outputs": [
    {
     "data": {
      "image/png": "[encoded data removed]",
      "text/plain": [
       "<Figure size 640x480 with 1 Axes>"
      ]
     },
     "metadata": {},
     "output_type": "display_data"
    },
    {
     "data": {
      "text/plain": [
       "291.8"
      ]
     },
     "execution_count": 129,
     "metadata": {},
     "output_type": "execute_result"
    }
   ],
   "source": [
    "plot_graph(initial=initial_5 , x_values= x_values , percentage_return=percentage_return)\n",
    "1459/5"
   ]
  }
 ],
 "metadata": {
  "kernelspec": {
   "display_name": "Python 3.10.8 ('casestudyenv')",
   "language": "python",
   "name": "python3"
  },
  "language_info": {
   "codemirror_mode": {
    "name": "ipython",
    "version": 3
   },
   "file_extension": ".py",
   "mimetype": "text/x-python",
   "name": "python",
   "nbconvert_exporter": "python",
   "pygments_lexer": "ipython3",
   "version": "3.10.8"
  },
  "orig_nbformat": 4,
  "vscode": {
   "interpreter": {
    "hash": "e338846b0055d0ce2af10a8354efc03a27a2ef7071211c9b82d44cf37eada501"
   }
  }
 },
 "nbformat": 4,
 "nbformat_minor": 2
}
